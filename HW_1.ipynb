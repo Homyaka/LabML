{
  "cells": [
    {
      "cell_type": "markdown",
      "metadata": {
        "id": "view-in-github",
        "colab_type": "text"
      },
      "source": [
        "<a href=\"https://colab.research.google.com/github/Homyaka/LabML/blob/main/HW_1.ipynb\" target=\"_parent\"><img src=\"https://colab.research.google.com/assets/colab-badge.svg\" alt=\"Open In Colab\"/></a>"
      ]
    },
    {
      "cell_type": "markdown",
      "metadata": {
        "id": "wP103Mzpjnge"
      },
      "source": [
        "1. Загрузите данные load_wine из sklearn.datasets. Из обучающей части исключите объекты класса 2. Обучите случайный лес, задав только гиперпараметры `n_estimators=100` и `random_state=0`. Оцените важность признаков. Укажите название двух наиболее важных признаков. "
      ]
    },
    {
      "cell_type": "code",
      "execution_count": 4,
      "metadata": {
        "id": "ksz6uSlzjdXD",
        "colab": {
          "base_uri": "https://localhost:8080/",
          "height": 505
        },
        "outputId": "f1cf4872-c027-4ca4-8bc7-7ca62e0e89df"
      },
      "outputs": [
        {
          "output_type": "execute_result",
          "data": {
            "text/plain": [
              "['alcohol',\n",
              " 'malic_acid',\n",
              " 'ash',\n",
              " 'alcalinity_of_ash',\n",
              " 'magnesium',\n",
              " 'total_phenols',\n",
              " 'flavanoids',\n",
              " 'nonflavanoid_phenols',\n",
              " 'proanthocyanins',\n",
              " 'color_intensity',\n",
              " 'hue',\n",
              " 'od280/od315_of_diluted_wines',\n",
              " 'proline']"
            ]
          },
          "metadata": {},
          "execution_count": 4
        },
        {
          "output_type": "display_data",
          "data": {
            "text/plain": [
              "<Figure size 432x288 with 1 Axes>"
            ],
            "image/png": "[encoded data removed]"
          },
          "metadata": {
            "needs_background": "light"
          }
        }
      ],
      "source": [
        "from sklearn.datasets import load_wine\n",
        "from sklearn.model_selection import train_test_split\n",
        "from sklearn.ensemble import RandomForestRegressor\n",
        "import seaborn as sns\n",
        "import pandas as pd\n",
        "\n",
        "data = load_wine()\n",
        "X = data.data     \n",
        "Y = data.target\n",
        "mask=(Y!=2)\n",
        "X=X[mask]\n",
        "Y=Y[mask]\n",
        "clf = RandomForestRegressor(n_estimators=100,random_state=0)\n",
        "clf.fit(X, Y)\n",
        "clf.feature_importances_\n",
        "feature_imp = pd.DataFrame({'importances': clf.feature_importances_, 'name':data.feature_names})\n",
        "sns.barplot(x=\"importances\", y=\"name\", data=feature_imp)\n",
        "data.feature_names\n",
        "#alcohol и proline"
      ]
    },
    {
      "cell_type": "markdown",
      "metadata": {
        "id": "V3_T1dkjkHtg"
      },
      "source": [
        "2. Загрузите данные load_wine из sklearn.datasets. Из обучающей части исключите объекты класса 2. Отмасштабируйте признаки, используя класс StandardScaler с гиперпараметрами по умолчанию. Обучите случайный лес, задав только гиперпараметры  `n_estimators = 100` и `random_state=0`. Оцените важность признаков. Укажите название двух наиболее важных признаков."
      ]
    },
    {
      "cell_type": "code",
      "execution_count": null,
      "metadata": {
        "id": "0yQfA9lUkOLg"
      },
      "outputs": [],
      "source": [
        "from sklearn.datasets import load_wine\n",
        "from sklearn.model_selection import train_test_split\n",
        "from sklearn.ensemble import RandomForestRegressor\n",
        "import seaborn as sns\n",
        "import pandas as pd\n",
        "\n",
        "\n",
        "data = load_wine()\n",
        "X = data.data     \n",
        "Y = data.target\n",
        "mask=(Y!=2)\n",
        "X=X[mask]\n",
        "Y=Y[mask]\n"
      ]
    },
    {
      "cell_type": "markdown",
      "metadata": {
        "id": "30upVFxqjtII"
      },
      "source": [
        "Ниже приведена неполная реализация класса Bagging который имеет методы `fit` для обучения бэггинга над `DecisionTreeRegressor` и метод `predict` для предсказания. Допишите необходимый код, чтобы реализовать бэггинг."
      ]
    },
    {
      "cell_type": "markdown",
      "metadata": {
        "id": "7hLyrAJW2ntE"
      },
      "source": [
        "используемы переменные в коде:\n",
        "- `self.n_estimators`, `n_estimators` - число используемых деревьев\n",
        "- `self.regressors` - список объектов класса `DecisionTreeRegressor`, к которым уже был применён метод `fit`\n",
        "Данный список необъодимо заполнить в методе `fit` и использовать для предсказания в методе `predict`\n",
        "- `ind`-  выбранные индексы объектов при бутстрапе\n",
        "\n",
        "при создании объекта класса `DecisionTreeRegressor` зафиксируйте  \n",
        "`random_state=0`"
      ]
    },
    {
      "cell_type": "code",
      "execution_count": 20,
      "metadata": {
        "id": "q6jU2AoCkmZQ"
      },
      "outputs": [],
      "source": [
        "import numpy as np\n",
        "from sklearn.tree import DecisionTreeRegressor\n",
        "class Bagging():\n",
        "  def __init__(self, n_estimators=10):\n",
        "    self.n_estimators = n_estimators\n",
        "    self.regressors = []\n",
        "  def fit(self, x_train, y_train):\n",
        "    for i in range(self.n_estimators):\n",
        "      np.random.seed(i)\n",
        "      ind = np.random.choice(np.arange(x_train.shape[0]), size = x_train.shape[0])\n",
        "      ####\n",
        "  def predict(self, x_test):\n",
        "    ####"
      ]
    },
    {
      "cell_type": "markdown",
      "metadata": {
        "id": "3d3O4PEdkgWL"
      },
      "source": [
        "Загрузите данные приложенные к заданию"
      ]
    },
    {
      "cell_type": "code",
      "execution_count": 17,
      "metadata": {
        "id": "WGAZLuOwkcTA"
      },
      "outputs": [],
      "source": [
        "import pandas as pd\n",
        "from google.colab import files\n",
        "data = pd.read_csv('data.csv')"
      ]
    },
    {
      "cell_type": "markdown",
      "metadata": {
        "id": "3nqAF3xSxINs"
      },
      "source": [
        "Положим матрицу объекты-признаки в переменную `X`, а ответы в переменную `y`"
      ]
    },
    {
      "cell_type": "code",
      "execution_count": 18,
      "metadata": {
        "id": "Gme29o-QxXpW"
      },
      "outputs": [],
      "source": [
        "X, y = data.iloc[:, :100], data.iloc[:, 100]"
      ]
    },
    {
      "cell_type": "markdown",
      "metadata": {
        "id": "Z9Vzjd9uk1rc"
      },
      "source": [
        "\n",
        "Положим первые 6000 объектов в обучающую часть, остальные объекты в тестовую часть"
      ]
    },
    {
      "cell_type": "code",
      "execution_count": 19,
      "metadata": {
        "id": "EgUzGnlvk2st"
      },
      "outputs": [],
      "source": [
        "x_train, y_train = X[:6000], y[:6000]\n",
        "x_test, y_test = X[6000:], y[6000:]"
      ]
    },
    {
      "cell_type": "markdown",
      "metadata": {
        "id": "aU9wrsEQk9BU"
      },
      "source": [
        "3. Обучите бэггинг на 1 дереве. Оцените качество по метрике MSE на тестовой части. Ответ разделите на 1000 и округлите до целой части по математичестким правилам округления."
      ]
    },
    {
      "cell_type": "code",
      "execution_count": null,
      "metadata": {
        "id": "lx5XJC3Sk8NS"
      },
      "outputs": [],
      "source": [
        "clf = RandomForestRegressor(n_estimators=100, max_features=0.2)\n",
        "clf.fit()"
      ]
    },
    {
      "cell_type": "markdown",
      "metadata": {
        "id": "XRmiSEn8lEju"
      },
      "source": [
        "4. Обучите бэггинг на 5 деревьях. Оцените качество по метрике MSE на тестовой части. Ответ разделите на 1000 и округлите до целой части по математичестким правилам округления."
      ]
    },
    {
      "cell_type": "code",
      "execution_count": null,
      "metadata": {
        "id": "4gOA8WLJlPuO"
      },
      "outputs": [],
      "source": []
    },
    {
      "cell_type": "markdown",
      "metadata": {
        "id": "QzXNbEBblQgn"
      },
      "source": [
        "5. Обучите бэггинг на 100 деревьях. Оцените качество по метрике MSE на тестовой части. . Ответ разделите на 1000 и округлите до целой части по математичестким правилам округления."
      ]
    },
    {
      "cell_type": "code",
      "execution_count": null,
      "metadata": {
        "id": "B3zKondflUpQ"
      },
      "outputs": [],
      "source": []
    },
    {
      "cell_type": "markdown",
      "metadata": {
        "id": "U70oTX93lZfH"
      },
      "source": [
        "6. Обучите на этих же данных случайный лес, используйте гиперпараметр `n_estimators = 1`, зафиксируйте  \n",
        "`random_state=0`. Оцените качество по метрике MSE на тестовой части. . Ответ разделите на 1000 и округлите до целой части по математичестким правилам округления."
      ]
    },
    {
      "cell_type": "code",
      "execution_count": null,
      "metadata": {
        "id": "EuQorK1ald7U"
      },
      "outputs": [],
      "source": []
    },
    {
      "cell_type": "markdown",
      "metadata": {
        "id": "8ehRS_oXly8P"
      },
      "source": [
        "7. Обучите на этих же данных случайный лес, используйте гиперпараметр `n_estimators = 1`, зафиксируйте  \n",
        "`random_state=0`. Оцените качество по метрике MSE на тестовой части. . Ответ разделите на 1000 и округлите до целой части по математичестким правилам округления."
      ]
    },
    {
      "cell_type": "code",
      "execution_count": null,
      "metadata": {
        "id": "6KQS5Hkfl9Wn"
      },
      "outputs": [],
      "source": []
    },
    {
      "cell_type": "markdown",
      "metadata": {
        "id": "Uu-4AVFSl9xJ"
      },
      "source": [
        "8. Обучите на этих же данных случайный лес, используйте гиперпараметр `n_estimators = 5`, зафиксируйте  \n",
        "`random_state=0`. Оцените качество по метрике MSE на тестовой части. . Ответ разделите на 1000 и округлите до целой части по математичестким правилам округления."
      ]
    },
    {
      "cell_type": "code",
      "execution_count": null,
      "metadata": {
        "id": "o03d3MNNl-5Z"
      },
      "outputs": [],
      "source": []
    },
    {
      "cell_type": "markdown",
      "metadata": {
        "id": "uVvI1KOvmCV1"
      },
      "source": [
        "9. Обучите на этих же данных случайный лес, используйте гиперпараметр `n_estimators = 100`, зафиксируйте  \n",
        "`random_state=0`. Оцените качество по метрике MSE на тестовой части. . Ответ разделите на 1000 и округлите до целой части по математичестким правилам округления."
      ]
    },
    {
      "cell_type": "code",
      "execution_count": null,
      "metadata": {
        "id": "fWVCBsSmmEzi"
      },
      "outputs": [],
      "source": []
    },
    {
      "cell_type": "markdown",
      "metadata": {
        "id": "TuC8uKXxmTAR"
      },
      "source": [
        "10. Изучите документацию и разберитесь как посчитать Out-of-bag ошибку в RandomForestRegressor. Обучите RandomForestRegressor с гиперпараметром n_estimators=100 на обучающей части, зафиксируйте  \n",
        "`random_state=0`. Найдите Out-of-bag ошибку алгоритма. Ответ округлите до сотых."
      ]
    },
    {
      "cell_type": "code",
      "execution_count": null,
      "metadata": {
        "id": "6tj8UppYmUNH"
      },
      "outputs": [],
      "source": []
    }
  ],
  "metadata": {
    "colab": {
      "provenance": [],
      "include_colab_link": true
    },
    "kernelspec": {
      "display_name": "Python 3 (ipykernel)",
      "language": "python",
      "name": "python3"
    },
    "language_info": {
      "codemirror_mode": {
        "name": "ipython",
        "version": 3
      },
      "file_extension": ".py",
      "mimetype": "text/x-python",
      "name": "python",
      "nbconvert_exporter": "python",
      "pygments_lexer": "ipython3",
      "version": "3.9.12"
    }
  },
  "nbformat": 4,
  "nbformat_minor": 0
}